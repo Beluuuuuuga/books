{
 "cells": [
  {
   "cell_type": "markdown",
   "metadata": {},
   "source": [
    "## 4.1 問題を分割する"
   ]
  },
  {
   "cell_type": "markdown",
   "metadata": {},
   "source": [
    "### 4.1.4 小さな結果をまとめる\n",
    "コード4.1 2つのソートされた配列を統合"
   ]
  },
  {
   "cell_type": "code",
   "execution_count": 12,
   "metadata": {},
   "outputs": [
    {
     "name": "stdout",
     "output_type": "stream",
     "text": [
      "[16, 30, 47, 69, 75]\n",
      "[8, 60, 74, 77, 80]\n"
     ]
    }
   ],
   "source": [
    "import random\n",
    "random.seed(3)\n",
    "my_array1 = sorted([random.randint(0, 99) for i in range(5)])\n",
    "my_array2 = sorted([random.randint(0, 99) for i in range(5)])\n",
    "print(my_array1)\n",
    "print(my_array2)"
   ]
  },
  {
   "cell_type": "code",
   "execution_count": 15,
   "metadata": {},
   "outputs": [
    {
     "data": {
      "text/plain": [
       "[8, 16, 30, 47, 60, 69, 74, 75, 77, 80]"
      ]
     },
     "execution_count": 15,
     "metadata": {},
     "output_type": "execute_result"
    }
   ],
   "source": [
    "def merge_arrays(left, right=[]):\n",
    "    res = []\n",
    "    i, j = 0, 0\n",
    "    n, m = len(left), len(right)\n",
    "    while i < n and j < m:\n",
    "        if left[i] < right[j]:\n",
    "            res.append(left[i])\n",
    "            i += 1\n",
    "        else:\n",
    "            res.append(right[j])\n",
    "            j += 1\n",
    "    return res + left[i:] + right[j:]\n",
    "\n",
    "merge_arrays(my_array1,my_array2)"
   ]
  },
  {
   "cell_type": "markdown",
   "metadata": {},
   "source": [
    "コード4.2 配列を分割してマージへ渡す関数"
   ]
  },
  {
   "cell_type": "code",
   "execution_count": 23,
   "metadata": {},
   "outputs": [],
   "source": [
    "def step(array):\n",
    "    res = []\n",
    "    for i in range(0, len(array), 2):\n",
    "        # 長さ2もしくは1の配列がスライスの結果を返る\n",
    "        res.append(merge_arrays(*array[i:i+2]))\n",
    "    return res"
   ]
  },
  {
   "cell_type": "code",
   "execution_count": 24,
   "metadata": {},
   "outputs": [
    {
     "data": {
      "text/plain": [
       "[[30, 38], [13, 92], [50, 61], [11, 19], [2, 8], [51, 70], [37, 97], [7]]"
      ]
     },
     "execution_count": 24,
     "metadata": {},
     "output_type": "execute_result"
    }
   ],
   "source": [
    "import random\n",
    "random.seed(4)\n",
    "my_array = [random.randint(0,100) for i in range(15)]\n",
    "my_array = [[v] for v in my_array]\n",
    "step1 = step(my_array)\n",
    "step1"
   ]
  },
  {
   "cell_type": "code",
   "execution_count": 25,
   "metadata": {},
   "outputs": [
    {
     "data": {
      "text/plain": [
       "[[13, 30, 38, 92], [11, 19, 50, 61], [2, 8, 51, 70], [7, 37, 97]]"
      ]
     },
     "execution_count": 25,
     "metadata": {},
     "output_type": "execute_result"
    }
   ],
   "source": [
    "step2 = step(step1)\n",
    "step2"
   ]
  },
  {
   "cell_type": "code",
   "execution_count": 26,
   "metadata": {},
   "outputs": [
    {
     "data": {
      "text/plain": [
       "[[2, 7, 8, 11, 13, 19, 30, 37, 38, 50, 51, 61, 70, 92, 97]]"
      ]
     },
     "execution_count": 26,
     "metadata": {},
     "output_type": "execute_result"
    }
   ],
   "source": [
    "step3 = step(step2)\n",
    "step4 = step(step3)\n",
    "step4"
   ]
  },
  {
   "cell_type": "markdown",
   "metadata": {},
   "source": [
    "コード4.3 マージソート"
   ]
  },
  {
   "cell_type": "code",
   "execution_count": 27,
   "metadata": {},
   "outputs": [],
   "source": [
    "def merge_sort(array):\n",
    "    # すべての数をリストに変換する\n",
    "    res = [[v] for v in array]\n",
    "    while len(res[0]) != len(array):\n",
    "        res = step(res)\n",
    "    # リストの中にリストが入ってしまうのでこれを取り出す\n",
    "    return res[0]"
   ]
  },
  {
   "cell_type": "code",
   "execution_count": 28,
   "metadata": {},
   "outputs": [
    {
     "data": {
      "text/plain": [
       "[28, 66, 68, 46, 35, 99, 22, 13, 33, 27, 3, 82, 33, 34, 24]"
      ]
     },
     "execution_count": 28,
     "metadata": {},
     "output_type": "execute_result"
    }
   ],
   "source": [
    "my_array = [random.randint(0,100) for i in range(15)]\n",
    "my_array"
   ]
  },
  {
   "cell_type": "code",
   "execution_count": 29,
   "metadata": {},
   "outputs": [
    {
     "data": {
      "text/plain": [
       "[3, 13, 22, 24, 27, 28, 33, 33, 34, 35, 46, 66, 68, 82, 99]"
      ]
     },
     "execution_count": 29,
     "metadata": {},
     "output_type": "execute_result"
    }
   ],
   "source": [
    "merge_sort(my_array)"
   ]
  },
  {
   "cell_type": "code",
   "execution_count": null,
   "metadata": {},
   "outputs": [],
   "source": []
  }
 ],
 "metadata": {
  "kernelspec": {
   "display_name": "Python 3",
   "language": "python",
   "name": "python3"
  },
  "language_info": {
   "codemirror_mode": {
    "name": "ipython",
    "version": 3
   },
   "file_extension": ".py",
   "mimetype": "text/x-python",
   "name": "python",
   "nbconvert_exporter": "python",
   "pygments_lexer": "ipython3",
   "version": "3.6.9"
  }
 },
 "nbformat": 4,
 "nbformat_minor": 4
}
