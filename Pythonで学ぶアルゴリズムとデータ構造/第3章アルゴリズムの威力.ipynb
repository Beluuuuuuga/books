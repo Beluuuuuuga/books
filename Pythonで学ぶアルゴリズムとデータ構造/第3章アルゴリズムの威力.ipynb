{
 "cells": [
  {
   "cell_type": "markdown",
   "metadata": {},
   "source": [
    "## 3.1 アルゴリズムと実装"
   ]
  },
  {
   "cell_type": "markdown",
   "metadata": {},
   "source": [
    "### 3.1.1 最大公約数"
   ]
  },
  {
   "cell_type": "code",
   "execution_count": 1,
   "metadata": {},
   "outputs": [
    {
     "data": {
      "text/plain": [
       "97"
      ]
     },
     "execution_count": 1,
     "metadata": {},
     "output_type": "execute_result"
    }
   ],
   "source": [
    "import math\n",
    "math.gcd(18915, 14938)"
   ]
  },
  {
   "cell_type": "markdown",
   "metadata": {},
   "source": [
    "コード3.3 最大公約数を求める方法１"
   ]
  },
  {
   "cell_type": "code",
   "execution_count": 6,
   "metadata": {},
   "outputs": [
    {
     "data": {
      "text/plain": [
       "97"
      ]
     },
     "execution_count": 6,
     "metadata": {},
     "output_type": "execute_result"
    }
   ],
   "source": [
    "def sample_gcd(a, b):\n",
    "    if a < b:\n",
    "        a, b = b, a\n",
    "    x = b\n",
    "    while True:\n",
    "        if a % x == 0 and b % x == 0:\n",
    "            return x\n",
    "        x -= 1\n",
    "        \n",
    "sample_gcd(18915, 14938)"
   ]
  },
  {
   "cell_type": "markdown",
   "metadata": {},
   "source": [
    "コード3.6 ユークリッドの互除法"
   ]
  },
  {
   "cell_type": "code",
   "execution_count": 8,
   "metadata": {},
   "outputs": [
    {
     "data": {
      "text/plain": [
       "97"
      ]
     },
     "execution_count": 8,
     "metadata": {},
     "output_type": "execute_result"
    }
   ],
   "source": [
    "def euclidean_algorithm(a, b):\n",
    "    while True:\n",
    "        r = a % b\n",
    "        if r == 0:\n",
    "            return b\n",
    "        a, b = b, r\n",
    "\n",
    "euclidean_algorithm(18915, 14938)"
   ]
  },
  {
   "cell_type": "markdown",
   "metadata": {},
   "source": [
    "コード3.7 ユークリッドの互除法（再帰）"
   ]
  },
  {
   "cell_type": "code",
   "execution_count": 9,
   "metadata": {},
   "outputs": [
    {
     "data": {
      "text/plain": [
       "97"
      ]
     },
     "execution_count": 9,
     "metadata": {},
     "output_type": "execute_result"
    }
   ],
   "source": [
    "def euclidean_recursion(a, b):\n",
    "    r = a % b\n",
    "    if r == 0:\n",
    "        return b\n",
    "    return euclidean_recursion(b, r)\n",
    "\n",
    "euclidean_recursion(18915, 14938)"
   ]
  },
  {
   "cell_type": "markdown",
   "metadata": {},
   "source": [
    "## 3.2 配列のソート"
   ]
  },
  {
   "cell_type": "markdown",
   "metadata": {},
   "source": [
    "### 3.2.1 要素の並び替え"
   ]
  },
  {
   "cell_type": "code",
   "execution_count": 11,
   "metadata": {},
   "outputs": [
    {
     "data": {
      "text/plain": [
       "[30, 75, 69, 16, 47, 77, 60, 80, 74, 8, 77, 1, 60, 33, 70, 29, 24, 91, 60, 69]"
      ]
     },
     "execution_count": 11,
     "metadata": {},
     "output_type": "execute_result"
    }
   ],
   "source": [
    "import random\n",
    "random.seed(3)\n",
    "my_array = [random.randint(0, 99) for i in range(20)]\n",
    "my_array"
   ]
  },
  {
   "cell_type": "code",
   "execution_count": 12,
   "metadata": {},
   "outputs": [
    {
     "data": {
      "text/plain": [
       "[1, 8, 16, 24, 29, 30, 33, 47, 60, 60, 60, 69, 69, 70, 74, 75, 77, 77, 80, 91]"
      ]
     },
     "execution_count": 12,
     "metadata": {},
     "output_type": "execute_result"
    }
   ],
   "source": [
    "sorted(my_array)"
   ]
  },
  {
   "cell_type": "code",
   "execution_count": 13,
   "metadata": {},
   "outputs": [
    {
     "data": {
      "text/plain": [
       "[1, 8, 16, 24, 29, 30, 33, 47, 60, 60, 60, 69, 69, 70, 74, 75, 77, 77, 80, 91]"
      ]
     },
     "execution_count": 13,
     "metadata": {},
     "output_type": "execute_result"
    }
   ],
   "source": [
    "my_array.sort()\n",
    "my_array"
   ]
  },
  {
   "cell_type": "markdown",
   "metadata": {},
   "source": [
    "### 3.2.3 選択ソートを実装する"
   ]
  },
  {
   "cell_type": "markdown",
   "metadata": {},
   "source": [
    "コード3.9 選択ソートの実装"
   ]
  },
  {
   "cell_type": "code",
   "execution_count": 16,
   "metadata": {},
   "outputs": [
    {
     "data": {
      "text/plain": [
       "[1, 5, 8, 19, 19, 20, 29, 38, 49, 50, 60, 66, 70, 75, 81, 81, 85, 94, 97, 99]"
      ]
     },
     "execution_count": 16,
     "metadata": {},
     "output_type": "execute_result"
    }
   ],
   "source": [
    "def selection_sort(array):\n",
    "    x = array.copy()\n",
    "    n = len(x)\n",
    "    for i in range(n):\n",
    "        min_idx = i\n",
    "        for j in range(i, n):\n",
    "            if x[j] < x[min_idx]:\n",
    "                min_idx = j\n",
    "        x[i], x[min_idx] = x[min_idx], x[i]\n",
    "    return x\n",
    "\n",
    "random.shuffle(my_array)\n",
    "selection_sort(my_array)"
   ]
  },
  {
   "cell_type": "markdown",
   "metadata": {},
   "source": [
    "### 3.2.5 速度の比較"
   ]
  },
  {
   "cell_type": "code",
   "execution_count": 21,
   "metadata": {},
   "outputs": [
    {
     "data": {
      "text/plain": [
       "2.421230600000854"
      ]
     },
     "execution_count": 21,
     "metadata": {},
     "output_type": "execute_result"
    }
   ],
   "source": [
    "import timeit\n",
    "my_array = [random.randint(0,99) for i in range(10000)]\n",
    "timeit.timeit('selection_sort(my_array)', globals=globals(), number=1)"
   ]
  },
  {
   "cell_type": "code",
   "execution_count": 22,
   "metadata": {},
   "outputs": [
    {
     "data": {
      "text/plain": [
       "0.001378899996780092"
      ]
     },
     "execution_count": 22,
     "metadata": {},
     "output_type": "execute_result"
    }
   ],
   "source": [
    "my_array = [random.randint(0,99) for i in range(10000)]\n",
    "timeit.timeit('sorted(my_array)', globals=globals(), number=1)"
   ]
  },
  {
   "cell_type": "markdown",
   "metadata": {},
   "source": [
    "## 例題"
   ]
  },
  {
   "cell_type": "markdown",
   "metadata": {},
   "source": [
    "[AtCoder 版！マスター・オブ・整数 (最大公約数編)](https://qiita.com/drken/items/0c88a37eec520f82b788#%E5%95%8F%E9%A1%8C-1-abc-109-c---skip-300-%E7%82%B9)\n",
    "\n",
    "[Atcoder abc148 C - Snack](https://atcoder.jp/contests/abc148/tasks/abc148_c)"
   ]
  },
  {
   "cell_type": "code",
   "execution_count": 28,
   "metadata": {},
   "outputs": [
    {
     "name": "stdout",
     "output_type": "stream",
     "text": [
      "2 3\n",
      "6\n"
     ]
    }
   ],
   "source": [
    "import math\n",
    "a,b = map(int, input().split()) \n",
    "def lcm(x, y):\n",
    "    return (x * y) // math.gcd(x, y)\n",
    "ans = lcm(a,b)\n",
    "print(ans)"
   ]
  },
  {
   "cell_type": "markdown",
   "metadata": {},
   "source": [
    "[Atcoder abc109 C - Skip](https://atcoder.jp/contests/abc109/tasks/abc109_c)"
   ]
  },
  {
   "cell_type": "code",
   "execution_count": 36,
   "metadata": {},
   "outputs": [
    {
     "name": "stdout",
     "output_type": "stream",
     "text": [
      "3 81\n",
      " 33 105 57\n"
     ]
    }
   ],
   "source": [
    "import math\n",
    "n,x = map(int, input().split()) \n",
    "num_list = list(map(int, input().split())) \n",
    "res = 0\n",
    "for i in num_list:\n",
    "    res = math.gcd(res, abs(i-x))\n",
    "\n",
    "print(res)"
   ]
  }
 ],
 "metadata": {
  "kernelspec": {
   "display_name": "Python 3",
   "language": "python",
   "name": "python3"
  },
  "language_info": {
   "codemirror_mode": {
    "name": "ipython",
    "version": 3
   },
   "file_extension": ".py",
   "mimetype": "text/x-python",
   "name": "python",
   "nbconvert_exporter": "python",
   "pygments_lexer": "ipython3",
   "version": "3.6.9"
  }
 },
 "nbformat": 4,
 "nbformat_minor": 4
}
